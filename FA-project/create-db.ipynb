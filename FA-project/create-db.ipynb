{
 "cells": [
  {
   "cell_type": "markdown",
   "id": "f0a8dc25",
   "metadata": {},
   "source": [
    "# Database creation"
   ]
  },
  {
   "cell_type": "code",
   "execution_count": 4,
   "id": "59cf6bfd",
   "metadata": {},
   "outputs": [],
   "source": [
    "import sqlite3\n",
    "\n",
    "# Connect to the database\n",
    "conn = sqlite3.connect('users.db')\n",
    "\n",
    "# Create a cursor\n",
    "c = conn.cursor()\n",
    "\n",
    "# Create a table to store users with email and password columns\n",
    "c.execute('''\n",
    "CREATE TABLE IF NOT EXISTS users (\n",
    "    id INTEGER PRIMARY KEY AUTOINCREMENT,\n",
    "    email TEXT NOT NULL UNIQUE,\n",
    "    password TEXT NOT NULL\n",
    ")\n",
    "''')\n",
    "\n",
    "# Insert a sample user (email: 'testuser@example.com', password: 'password123')\n",
    "c.execute(\"INSERT INTO users (email, password) VALUES (?, ?)\", ('lana@gmail.com', 'pass123'))\n",
    "\n",
    "# Commit the transaction and close the connection\n",
    "conn.commit()\n",
    "conn.close()\n"
   ]
  },
  {
   "cell_type": "markdown",
   "id": "ab03111a",
   "metadata": {},
   "source": [
    "# to show the database"
   ]
  },
  {
   "cell_type": "code",
   "execution_count": 11,
   "id": "d751c465",
   "metadata": {},
   "outputs": [
    {
     "name": "stdout",
     "output_type": "stream",
     "text": [
      "(1, 'lana@gmail.com', 'pass123')\n",
      "(2, 'mohammed@gmail.com', 'moh123')\n",
      "(3, 'kdenjkkjekj@gmail.com', '8265c5ddaf1b869212864a02bc0775bb89119175ef22241c104e424377f16efb')\n"
     ]
    }
   ],
   "source": [
    "import sqlite3\n",
    "\n",
    "# Connect to the database\n",
    "conn = sqlite3.connect('users.db')\n",
    "\n",
    "# Create a cursor\n",
    "c = conn.cursor()\n",
    "\n",
    "# Fetch all data from the users table\n",
    "c.execute(\"SELECT * FROM users\")\n",
    "\n",
    "# Fetch all rows from the executed query\n",
    "rows = c.fetchall()\n",
    "\n",
    "# Display the data\n",
    "for row in rows:\n",
    "    print(row)\n",
    "\n",
    "# Close the connection\n",
    "conn.close()\n"
   ]
  },
  {
   "cell_type": "code",
   "execution_count": null,
   "id": "61eb30fe",
   "metadata": {},
   "outputs": [],
   "source": []
  }
 ],
 "metadata": {
  "kernelspec": {
   "display_name": "Python 3 (ipykernel)",
   "language": "python",
   "name": "python3"
  },
  "language_info": {
   "codemirror_mode": {
    "name": "ipython",
    "version": 3
   },
   "file_extension": ".py",
   "mimetype": "text/x-python",
   "name": "python",
   "nbconvert_exporter": "python",
   "pygments_lexer": "ipython3",
   "version": "3.9.13"
  }
 },
 "nbformat": 4,
 "nbformat_minor": 5
}
