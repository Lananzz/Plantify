{
 "cells": [
  {
   "cell_type": "code",
   "execution_count": 2,
   "id": "b5714ebe",
   "metadata": {},
   "outputs": [],
   "source": [
    "# config.py\n",
    "import os\n",
    "\n",
    "class Config:\n",
    "    SQLALCHEMY_DATABASE_URI = 'sqlite:///users.db'\n",
    "    SQLALCHEMY_TRACK_MODIFICATIONS = False\n",
    "    SECRET_KEY = os.environ.get('SECRET_KEY') or '874546574574576'"
   ]
  }
 ],
 "metadata": {
  "kernelspec": {
   "display_name": "Python 3 (ipykernel)",
   "language": "python",
   "name": "python3"
  },
  "language_info": {
   "codemirror_mode": {
    "name": "ipython",
    "version": 3
   },
   "file_extension": ".py",
   "mimetype": "text/x-python",
   "name": "python",
   "nbconvert_exporter": "python",
   "pygments_lexer": "ipython3",
   "version": "3.9.13"
  }
 },
 "nbformat": 4,
 "nbformat_minor": 5
}
